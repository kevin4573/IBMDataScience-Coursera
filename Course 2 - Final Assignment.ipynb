{
 "cells": [
  {
   "cell_type": "markdown",
   "id": "134e6c52",
   "metadata": {},
   "source": [
    "# My Jupyter Notebook for Course 2 Completion"
   ]
  },
  {
   "cell_type": "markdown",
   "id": "b46ed5bf",
   "metadata": {},
   "source": [
    "Introduction: My name is **Jonathan** and I am completing this notebook for course 2 completion.\n",
    "\n",
    "My current occupation is as an aerospace engineer."
   ]
  },
  {
   "cell_type": "markdown",
   "id": "45c11ec4",
   "metadata": {},
   "source": [
    "_I am interested in data science because I love working with numbers and math and Excel and thought that it was time to join the big leagues._"
   ]
  },
  {
   "cell_type": "markdown",
   "id": "1583883c",
   "metadata": {},
   "source": [
    "### The following line of code will add two numbers together. The sum will then be tripled."
   ]
  },
  {
   "cell_type": "code",
   "execution_count": 8,
   "id": "ade053b5",
   "metadata": {},
   "outputs": [
    {
     "name": "stdout",
     "output_type": "stream",
     "text": [
      "The summation is: 6\n",
      "The triple sum is: 18\n"
     ]
    }
   ],
   "source": [
    "item_1 = 1\n",
    "item_2 = 5\n",
    "total = item_1+item_2\n",
    "tripledTotal = total*3\n",
    "print(\"The summation is:\",total)\n",
    "print(\"The triple sum is:\",tripledTotal)"
   ]
  },
  {
   "cell_type": "markdown",
   "id": "762c7383",
   "metadata": {},
   "source": [
    "There are a number of data science languages used regularly. These are just a few:\n",
    "\n",
    "   1. Python\n",
    "   2. R\n",
    "   3. Scala\n",
    "   4. SQL\n",
    "   5. JavaScript"
   ]
  },
  {
   "cell_type": "markdown",
   "id": "7d8fe0b3",
   "metadata": {},
   "source": [
    "Furthermore, there are a number of data science libraries that are frequently used:\n",
    "\n",
    "   1. Pandas\n",
    "   2. SciKit-Learn\n",
    "   3. TensorFlow\n",
    "   4. Matplotlib\n",
    "   5. SciPy\n",
    "   6. NumPy"
   ]
  },
  {
   "cell_type": "markdown",
   "id": "4efa4ecd",
   "metadata": {},
   "source": [
    "Some data science tools are:\n",
    "\n",
    "|    Tool    |\n",
    "|:----------:|\n",
    "|Apache Spark|\n",
    "|    Excel   |\n",
    "|   MatLab   |\n",
    "|   Tableau  |"
   ]
  },
  {
   "cell_type": "markdown",
   "id": "a73cd8f2",
   "metadata": {},
   "source": [
    "The following cell will convert 45min to hours:"
   ]
  },
  {
   "cell_type": "code",
   "execution_count": 6,
   "id": "2f53b32e",
   "metadata": {},
   "outputs": [
    {
     "name": "stdout",
     "output_type": "stream",
     "text": [
      "45 minutes = 0.75 hours\n"
     ]
    }
   ],
   "source": [
    "minutes = 45\n",
    "hours = minutes/60\n",
    "print(minutes, \"minutes =\",hours,\"hours\")"
   ]
  },
  {
   "cell_type": "markdown",
   "id": "9d6cbe85",
   "metadata": {},
   "source": [
    "The author of this JupyterNB is Jonathan"
   ]
  },
  {
   "cell_type": "markdown",
   "id": "c851f19a",
   "metadata": {},
   "source": [
    "Objectives list inserted above the below cell:\n",
    "  * Obj 1\n",
    "  * Obj 2\n",
    "  * Obj 3\n",
    "  * Obj n"
   ]
  },
  {
   "cell_type": "markdown",
   "id": "4eacb6e1",
   "metadata": {},
   "source": [
    "The \"below\" cell that was referenced above."
   ]
  },
  {
   "cell_type": "code",
   "execution_count": null,
   "id": "d2968802",
   "metadata": {},
   "outputs": [],
   "source": []
  }
 ],
 "metadata": {
  "kernelspec": {
   "display_name": "Python 3 (ipykernel)",
   "language": "python",
   "name": "python3"
  },
  "language_info": {
   "codemirror_mode": {
    "name": "ipython",
    "version": 3
   },
   "file_extension": ".py",
   "mimetype": "text/x-python",
   "name": "python",
   "nbconvert_exporter": "python",
   "pygments_lexer": "ipython3",
   "version": "3.11.2"
  }
 },
 "nbformat": 4,
 "nbformat_minor": 5
}
